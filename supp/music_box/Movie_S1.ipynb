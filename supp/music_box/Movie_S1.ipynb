{
 "cells": [
  {
   "cell_type": "code",
   "execution_count": 1,
   "id": "32b937cf",
   "metadata": {},
   "outputs": [],
   "source": [
    "import numpy as np\n",
    "import matplotlib.pyplot as plt\n",
    "import shelve\n",
    "import numba as nb\n",
    "import math\n",
    "import soundfile as sf\n",
    "\n",
    "\n",
    "from mutagen.mp3 import MP3 \n",
    "from PIL import Image \n",
    "from pathlib import Path \n",
    "import os \n",
    "import imageio \n",
    "from moviepy import editor "
   ]
  },
  {
   "cell_type": "code",
   "execution_count": 2,
   "id": "93ea9f80",
   "metadata": {},
   "outputs": [],
   "source": [
    "class kuramoto_reservoir:\n",
    "    def __init__(self, w, h, p,x0,Wout):\n",
    "        self.w = w\n",
    "        self.x0 = x0 \n",
    "        self.N = len(w)\n",
    "        self.Wout = Wout\n",
    "        self.h = h\n",
    "        self.X=x0\n",
    "        self.p=p\n",
    "        \n",
    "    def solve(self, m_test = 10_000):\n",
    "        U_pred = np.zeros(m_test,dtype='float64')\n",
    "        t=0\n",
    "        for i in range(0,m_test):\n",
    "            t=self.h+t\n",
    "            self.X = varRK4(t, self.X, self.h, fkura_closed, self.p, self.Wout,self.w,self.N)\n",
    "            xstate = concat_nb0(np.sin(self.X), np.sin(self.X)**2)\n",
    "            Up= nb_concatdot30(self.Wout, xstate)\n",
    "            U_pred[i]= Up  \n",
    "        return  U_pred\n",
    "             \n",
    "@nb.njit()\n",
    "def fkura_closed(t,x,p,Wout,w,N):\n",
    "    uin, K,F = p[0],p[1],p[2]\n",
    "    y = np.empty(N,dtype='float64')\n",
    "    R1=0\n",
    "    R2=0\n",
    "    Up0= nb_concatdot30(Wout, concat_nb0(np.sin(x), np.sin(x)**2))\n",
    "    for i in nb.prange(N):\n",
    "        R2 +=np.cos(x[i])\n",
    "        R1 +=np.sin(x[i])   \n",
    "    for i in nb.prange(N):\n",
    "        y[i] = w[i] - K*R2*np.sin(x[i])/N + K*R1*np.cos(x[i])/N +  F* np.sin(Up0*uin-x[i])       \n",
    "    return y\n",
    "\n",
    "@nb.njit()\n",
    "def varRK4(t, state, dt, f, p, Wout,w,N):\n",
    "    tmid = t + dt*0.5\n",
    "    k1 = dt*fkura_closed(t,state,p,Wout,w,N) \n",
    "    k2 = dt*fkura_closed(t,state + 0.5 * k1,p,Wout,w,N)\n",
    "    k3 = dt*fkura_closed(t,state + 0.5 * k2,p,Wout,w,N) \n",
    "    k4 = dt*fkura_closed(t + dt ,state + k3,p,Wout,w,N)\n",
    "    y= (state + (1.0/6.0) * (k1 + 2*k2 + 2*k3 + k4))\n",
    "    return ( y % (2*math.pi))\n",
    "\n",
    "@nb.njit()\n",
    "def concat_nb0(x,y):\n",
    "    res = np.empty( (x.shape[0]+y.shape[0]),dtype='float64')\n",
    "    for i in nb.prange(x.shape[0]+y.shape[0]):\n",
    "        if i < x.shape[0]:\n",
    "            res[i] = x[i]\n",
    "        else:\n",
    "            res[i] = y[i- x.shape[0] ]\n",
    "    return res \n",
    "\n",
    "@nb.njit()\n",
    "def nb_concatdot30( x, y): \n",
    "    res = 0\n",
    "    for i in nb.prange(x.shape[0]):\n",
    "        if i==0:\n",
    "            res+=x[i]\n",
    "        else:\n",
    "            res+=x[i]*y[i-1]\n",
    "    return res          \n",
    "\n",
    "def scale_shift(x):\n",
    "    return (x-0.1)/10\n",
    " "
   ]
  },
  {
   "cell_type": "code",
   "execution_count": 3,
   "id": "e73be914",
   "metadata": {},
   "outputs": [],
   "source": [
    "class circ_rot():\n",
    "    def __init__(self,center):\n",
    "        self.step = 0\n",
    "        self.center = center\n",
    "        self.pos = [center[0],0.3+center[1]]\n",
    "    \n",
    "    def one_step(self):\n",
    "        self.step+=1\n",
    "        return  [0.3*np.sin(2*np.pi*self.step/5) + self.center[0],0.3*np.cos(2*np.pi*self.step/5) +self.center[1]]"
   ]
  },
  {
   "cell_type": "code",
   "execution_count": null,
   "id": "5597c176",
   "metadata": {},
   "outputs": [],
   "source": []
  },
  {
   "cell_type": "code",
   "execution_count": 4,
   "id": "ae4af033",
   "metadata": {},
   "outputs": [],
   "source": [
    "with shelve.open('shelve/sound_param.shelve', 'r') as shelf:\n",
    "    pa_dict,ra_dict = shelf['A'][0],shelf['A'][1]\n",
    "    pc_dict,rc_dict = shelf['C'][0],shelf['C'][1]\n",
    "    pd_dict,rd_dict = shelf['D'][0],shelf['D'][1]\n",
    "    pe_dict,re_dict = shelf['E'][0],shelf['E'][1]\n",
    "    pf_dict,rf_dict = shelf['F'][0],shelf['F'][1]\n",
    "    pg_dict,rg_dict = shelf['G'][0],shelf['G'][1]\n",
    "\n",
    "with shelve.open('shelve/sheet_param.shelve', 'r') as shelf:\n",
    "    pM_dict,rM_dict = shelf['beat'][0], shelf['beat'][1]\n",
    "    pB_dict,rB_dict = shelf['degree'][0],shelf['degree'][1] "
   ]
  },
  {
   "cell_type": "code",
   "execution_count": 5,
   "id": "829fbf68",
   "metadata": {},
   "outputs": [],
   "source": [
    "kA = kuramoto_reservoir(pa_dict['w'],pa_dict['h'],np.array([pa_dict['uin'],pa_dict['K'],pa_dict['F']]),\\\n",
    "                   ra_dict['x0'],ra_dict['Wout'])\n",
    "\n",
    "kF = kuramoto_reservoir(pf_dict['w'],pf_dict['h'],np.array([pf_dict['uin'],pf_dict['K'],pf_dict['F']]),\\\n",
    "                   rf_dict['x0'],rf_dict['Wout'])\n",
    "\n",
    "kG = kuramoto_reservoir(pg_dict['w'],pg_dict['h'],np.array([pg_dict['uin'],pg_dict['K'],pg_dict['F']]),\\\n",
    "                   rg_dict['x0'],rg_dict['Wout'])\n",
    "\n",
    "kC = kuramoto_reservoir(pc_dict['w'],pc_dict['h'],np.array([pc_dict['uin'],pc_dict['K'],pc_dict['F']]),\\\n",
    "                   rc_dict['x0'],rc_dict['Wout'])\n",
    "\n",
    "kD = kuramoto_reservoir(pd_dict['w'],pd_dict['h'],np.array([pd_dict['uin'],pd_dict['K'],pd_dict['F']]),\\\n",
    "                   rd_dict['x0'],rd_dict['Wout'])\n",
    "\n",
    "kE = kuramoto_reservoir(pe_dict['w'],pe_dict['h'],np.array([pe_dict['uin'],pe_dict['K'],pe_dict['F']]),\\\n",
    "                   re_dict['x0'],re_dict['Wout'])\n",
    "\n",
    "kM = kuramoto_reservoir(pM_dict['w'],pM_dict['h'],np.array([pM_dict['uin'],pM_dict['K'],pM_dict['F']]),\\\n",
    "                   rM_dict['x0'],rM_dict['Wout'])\n",
    "\n",
    "kB = kuramoto_reservoir(pB_dict['w'],pB_dict['h'],np.array([pB_dict['uin'],pB_dict['K'],pB_dict['F']]),\\\n",
    "                   rB_dict['x0'],rB_dict['Wout'])"
   ]
  },
  {
   "cell_type": "code",
   "execution_count": 6,
   "id": "8396e59e",
   "metadata": {},
   "outputs": [],
   "source": [
    "M_raw=kM.solve(m_test=10_000)\n",
    "B_raw=kB.solve(m_test=10_000)"
   ]
  },
  {
   "cell_type": "code",
   "execution_count": 7,
   "id": "6ad3e6a6",
   "metadata": {},
   "outputs": [],
   "source": [
    "M_pro= np.round(M_raw[27*5-1::5][:100]+2)  \n",
    "B_pro= np.round(B_raw[27*5-1::5][:100]+2) \n",
    "# at 27*5-1 the melody starts,\n",
    "#for the trained data -2 was substracted otherwise the signal is too lopsided\n",
    "#hence we need to add +2 to get the original signal"
   ]
  },
  {
   "cell_type": "code",
   "execution_count": 8,
   "id": "84398b22",
   "metadata": {},
   "outputs": [],
   "source": [
    "int2let = {1: 'C',  2:'D', 3: 'E', 4:'F', 5:'G',6: 'A'}"
   ]
  },
  {
   "cell_type": "code",
   "execution_count": 9,
   "id": "124702fb",
   "metadata": {},
   "outputs": [],
   "source": [
    "\n",
    "m_test = 4_000\n",
    "sound_list = np.array([])\n",
    "for m,b in zip(M_pro[:27],B_pro[:27]):\n",
    "    b=int(b)\n",
    "    if int2let[int(m)] =='A':\n",
    "        mdum = scale_shift(kA.solve(m_test*b))\n",
    "        mdum[-500:-250]= mdum[-500:-250]/2\n",
    "        mdum[-250:] = 0\n",
    "        sound_list = np.append(sound_list,mdum)\n",
    "    elif int2let[int(m)] =='F':\n",
    "        mdum = scale_shift(kF.solve(m_test*b))\n",
    "        mdum[-500:-250]= mdum[-500:-250]/2\n",
    "        mdum[-250:] = 0\n",
    "        sound_list = np.append(sound_list,mdum)\n",
    "    elif int2let[int(m)] =='C':\n",
    "        mdum = scale_shift(kC.solve(m_test*b))\n",
    "        mdum[-500:-250]= mdum[-500:-250]/2\n",
    "        mdum[-250:] = 0\n",
    "        sound_list = np.append(sound_list,mdum)\n",
    "    elif int2let[int(m)] =='D':\n",
    "        mdum = scale_shift(kD.solve(m_test*b))\n",
    "        mdum[-500:-250]= mdum[-500:-250]/2\n",
    "        mdum[-250:] = 0\n",
    "        sound_list = np.append(sound_list,mdum)\n",
    "    elif int2let[int(m)] =='E':\n",
    "        mdum = scale_shift(kE.solve(m_test*b))\n",
    "        mdum[-500:-250]= mdum[-500:-250]/2\n",
    "        mdum[-250:] = 0\n",
    "        sound_list = np.append(sound_list,mdum)\n",
    "    elif int2let[int(m)] =='G':\n",
    "        mdum = scale_shift(kG.solve(m_test*b))\n",
    "        mdum[-500:-250]= mdum[-500:-250]/2\n",
    "        mdum[-250:] = 0\n",
    "        sound_list = np.append(sound_list,mdum)"
   ]
  },
  {
   "cell_type": "code",
   "execution_count": null,
   "id": "0fdae334",
   "metadata": {},
   "outputs": [],
   "source": []
  },
  {
   "cell_type": "code",
   "execution_count": null,
   "id": "37920d12",
   "metadata": {},
   "outputs": [],
   "source": []
  },
  {
   "cell_type": "code",
   "execution_count": 10,
   "id": "d2120e72",
   "metadata": {},
   "outputs": [
    {
     "data": {
      "image/png": "[encoded data removed]",
      "text/plain": [
       "<Figure size 1400x200 with 1 Axes>"
      ]
     },
     "metadata": {},
     "output_type": "display_data"
    }
   ],
   "source": [
    "sl_len = len(sound_list)\n",
    "\n",
    "i=0\n",
    "fig = plt.figure(figsize=(14,2))\n",
    "plt.plot((np.arange(0,sl_len,1)/22050)[::5],1000*sound_list[::5]/25,linewidth=0.3)\n",
    "#plt.plot([(np.arange(0,sl_len,1)/22050)[::5][i],(np.arange(0,sl_len,1)/22050)[::5][i]],[-1,1], color='red' )\n",
    "plt.xlim([-0.10,11.7])\n",
    "plt.xticks(fontsize=20)\n",
    "plt.yticks([])\n",
    "plt.savefig(f'rick_roll_wave.jpg',dpi=200,bbox_inches = 'tight')"
   ]
  },
  {
   "cell_type": "code",
   "execution_count": 11,
   "id": "0978dbfb",
   "metadata": {},
   "outputs": [
    {
     "data": {
      "text/plain": [
       "16.0"
      ]
     },
     "execution_count": 11,
     "metadata": {},
     "output_type": "execute_result"
    }
   ],
   "source": [
    "sound_list.shape[0]/16_000"
   ]
  },
  {
   "cell_type": "code",
   "execution_count": 12,
   "id": "a0c49a48",
   "metadata": {},
   "outputs": [
    {
     "data": {
      "text/plain": [
       "[<matplotlib.lines.Line2D at 0x1d1b68693d0>]"
      ]
     },
     "execution_count": 12,
     "metadata": {},
     "output_type": "execute_result"
    },
    {
     "data": {
      "image/png": "[encoded data removed]",
      "text/plain": [
       "<Figure size 640x480 with 1 Axes>"
      ]
     },
     "metadata": {},
     "output_type": "display_data"
    }
   ],
   "source": [
    "plt.plot(sound_list)"
   ]
  },
  {
   "cell_type": "code",
   "execution_count": null,
   "id": "d16877aa",
   "metadata": {},
   "outputs": [],
   "source": []
  },
  {
   "cell_type": "code",
   "execution_count": 13,
   "id": "290632f9",
   "metadata": {},
   "outputs": [
    {
     "data": {
      "text/plain": [
       "[<matplotlib.lines.Line2D at 0x1d1b6b88280>]"
      ]
     },
     "execution_count": 13,
     "metadata": {},
     "output_type": "execute_result"
    },
    {
     "data": {
      "image/png": "[encoded data removed]",
      "text/plain": [
       "<Figure size 640x480 with 1 Axes>"
      ]
     },
     "metadata": {},
     "output_type": "display_data"
    }
   ],
   "source": [
    "plt.plot(sound_list)"
   ]
  },
  {
   "cell_type": "code",
   "execution_count": 14,
   "id": "00ef18b6",
   "metadata": {},
   "outputs": [],
   "source": [
    "sf.write('audio/never_gonna_give_up_reservoir.mp3',sound_list,22050)"
   ]
  },
  {
   "cell_type": "code",
   "execution_count": 16,
   "id": "86dd45a4",
   "metadata": {},
   "outputs": [],
   "source": [
    "\n",
    "c1=circ_rot([4.5,6])\n",
    "c2=circ_rot([7.5,6])\n",
    "c3=circ_rot([3,3])\n",
    "c4=circ_rot([6,3])\n",
    "c5=circ_rot([9,3])\n",
    "c6=circ_rot([3,1])\n",
    "c7=circ_rot([6,1])\n",
    "c8=circ_rot([9,1])\n",
    "\n",
    "c1_dot = c1.pos\n",
    "c2_dot = c2.pos\n",
    "c3_dot = c3.pos\n",
    "c4_dot = c4.pos\n",
    "c5_dot = c5.pos\n",
    "c6_dot = c6.pos\n",
    "c7_dot = c7.pos\n",
    "c8_dot = c8.pos\n",
    "\n",
    "c1_legend = circ_rot([13,4])\n",
    "c2_legend = circ_rot([13,2.5])\n",
    "\n",
    "c1_legend_dot = c1_legend.pos\n",
    "c2_legend_dot = c2_legend.pos\n",
    "i=0\n",
    "for m,b in zip(M_pro[:27],B_pro[:27]):\n",
    "    b=int(b)\n",
    "    m=int(m)\n",
    "    for _ in range(2*b):\n",
    "        i+=1\n",
    "        \n",
    "        c1_arrow = plt.Arrow(4.5,5.5,0,-0.5,width=0.3,color='red')\n",
    "        c2_arrow = plt.Arrow(7.5,5.5,0,-0.5,width=0.3,color='red')\n",
    "\n",
    "\n",
    "        c3_arrow = plt.Arrow(3,4,0,-0.5,width=0.3,color='orange')\n",
    "        c4_arrow = plt.Arrow(6,4,0,-0.5,width=0.3,color='orange')\n",
    "        c5_arrow = plt.Arrow(9,4,0,-0.5,width=0.3,color='orange')\n",
    "        c6_arrow = plt.Arrow(4,4,0,-0.5,width=0.3,color='orange')\n",
    "        c7_arrow = plt.Arrow(5,4,0,-0.5,width=0.3,color='orange')\n",
    "        c8_arrow = plt.Arrow(7.5,4,0,-0.5,width=0.3,color='orange')\n",
    "        \n",
    "        circle1_legend = plt.Circle((13, 4), 0.5, color='g',fill=False)\n",
    "        circle2_legend = plt.Circle((13, 2.5), 0.5, color='g',fill=False)\n",
    "        \n",
    "        \n",
    "        circle1 = plt.Circle((4.5, 6), 0.5, color='g',fill=False)\n",
    "        circle2 = plt.Circle((7.5, 6), 0.5, color='g',fill=False)\n",
    "        circle3 = plt.Circle((3, 3), 0.5, color='g',fill=False)\n",
    "        circle4 = plt.Circle((6, 3), 0.5, color='g',fill=False)\n",
    "        circle5 = plt.Circle((9, 3), 0.5, color='g',fill=False)\n",
    "        circle6 = plt.Circle((3, 1), 0.5, color='g',fill=False)\n",
    "        circle7 = plt.Circle((6, 1), 0.5, color='g',fill=False)\n",
    "        circle8 = plt.Circle((9, 1), 0.5, color='g',fill=False)\n",
    "\n",
    "        rectangle =  plt.Rectangle((2,4), 8, 1, color='black',fill=False)\n",
    "        rectangle_sound = plt.Rectangle((0,-3.1), 12, 2.3, color='black',fill=False)\n",
    "        fig = plt.figure(figsize=(17,7))\n",
    "        \n",
    "\n",
    "        \n",
    "        c1_line = plt.plot([4.5,4.5],[5.5,5],c='red') \n",
    "        c2_line = plt.plot([7.5,7.5],[5.5,5],c='red') \n",
    "        c3_line = plt.plot([3,3],[4,3.5],c='orange') \n",
    "        c4_line = plt.plot([6,6],[4,3.5],c='orange') \n",
    "        c5_line = plt.plot([9,9],[4,3.5],c='orange') \n",
    "        c6a_line = plt.plot([4,4],[4,1],c='orange') \n",
    "        c6b_line = plt.plot([3.5,4],[1,1],c='orange') \n",
    "        c7a_line = plt.plot([5,5],[4,1],c='orange') \n",
    "        c7b_line = plt.plot([5,5.5],[1,1],c='orange') \n",
    "        c8a_line = plt.plot([7.5,7.5],[4,1],c='orange') \n",
    "        c8b_line = plt.plot([7.5,8.5],[1,1],c='orange') \n",
    "\n",
    "        plt.gca().add_patch(circle1_legend)\n",
    "        plt.gca().add_patch(circle2_legend)\n",
    "        plt.gca().add_patch(circle1)\n",
    "        plt.gca().add_patch(circle2)\n",
    "        plt.gca().add_patch(circle3)\n",
    "        plt.gca().add_patch(circle4)\n",
    "        plt.gca().add_patch(circle5)\n",
    "        plt.gca().add_patch(circle6)\n",
    "        plt.gca().add_patch(circle7)\n",
    "        plt.gca().add_patch(circle8)\n",
    "        plt.gca().add_patch(rectangle)\n",
    "        plt.gca().add_patch(c1_arrow)\n",
    "        plt.gca().add_patch(c2_arrow)\n",
    "        plt.gca().add_patch(rectangle_sound)\n",
    "        if m==1:\n",
    "            plt.gca().add_patch(c3_arrow)\n",
    "            c3_dot = c3.one_step()\n",
    "        elif m==2:\n",
    "            plt.gca().add_patch(c4_arrow)\n",
    "            c4_dot = c4.one_step()\n",
    "        elif m==3:\n",
    "            plt.gca().add_patch(c5_arrow)\n",
    "            c5_dot = c5.one_step()\n",
    "        elif m==4:\n",
    "            plt.gca().add_patch(c6_arrow)\n",
    "            c6_dot = c6.one_step()\n",
    "        elif m==5:\n",
    "            plt.gca().add_patch(c7_arrow)\n",
    "            c7_dot = c7.one_step()\n",
    "        elif m==6:\n",
    "            plt.gca().add_patch(c8_arrow)\n",
    "            c8_dot = c8.one_step()\n",
    "        c1_dot = c1.one_step()\n",
    "        c2_dot = c2.one_step()\n",
    "        c2_legend_dot = c2_legend.one_step() \n",
    "        \n",
    "        plt.scatter(c1_dot[0],c1_dot[1],s=10,c='#1f77b4')\n",
    "        plt.scatter(c2_dot[0],c2_dot[1],s=10,c='#1f77b4')\n",
    "        plt.scatter(c3_dot[0],c3_dot[1],s=10,c='#1f77b4')\n",
    "        plt.scatter(c4_dot[0],c4_dot[1],s=10,c='#1f77b4')\n",
    "        plt.scatter(c5_dot[0],c5_dot[1],s=10,c='#1f77b4')\n",
    "        plt.scatter(c6_dot[0],c6_dot[1],s=10,c='#1f77b4')\n",
    "        plt.scatter(c7_dot[0],c7_dot[1],s=10,c='#1f77b4')\n",
    "        plt.scatter(c8_dot[0],c8_dot[1],s=10,c='#1f77b4')\n",
    "        plt.scatter(c2_legend_dot[0],c2_legend_dot[1],s=10,c='#1f77b4')\n",
    "        plt.scatter(c1_legend_dot[0],c1_legend_dot[1],s=10,c='#1f77b4')\n",
    "        \n",
    "        plt.text(4.3,4.4, f'Beat: {b}/16,    Pitch: {int2let[m]}4',fontsize=18)\n",
    "\n",
    "        plt.text(0.1,5.8,' sheet music \\n oscillator \\n networks:',fontsize=14)\n",
    "        plt.text(0.1,2,' sound \\n oscillator \\n networks:',fontsize=14)\n",
    "        plt.text(4.3, 6.7, 'beat')\n",
    "        plt.text(7.3, 6.7, 'pitch')\n",
    "        offs=0.1\n",
    "        plt.text(3-offs,2.2, int2let[1]+'4')\n",
    "        plt.text(6-offs,2.2, int2let[2]+'4')\n",
    "        plt.text(9-offs,2.2, int2let[3]+'4')\n",
    "        plt.text(3-offs,0.2, int2let[4]+'4')\n",
    "        plt.text(6-offs,0.2, int2let[5]+'4')\n",
    "        plt.text(9-offs,0.2, int2let[6]+'4')\n",
    "        \n",
    "        plt.text(0.1, -0.6, 'oscillator network output (sound wave 22050Hz):', fontsize=14)\n",
    "        \n",
    "        plt.text(12.5,6, 'Legend', fontsize=20)\n",
    "        plt.text(12.5,5.2, 'Kuramoto oscillator network', fontsize=14)\n",
    "        plt.text(14,4, 'Stationary', fontsize=14)\n",
    "        plt.text(14,2.5, 'Evolving', fontsize=14)\n",
    "        plt.plot([12,12],[0,7],'--')\n",
    "        plt.axis('off')\n",
    "        \n",
    "        plt.xlim([0,19])\n",
    "        plt.ylim([-3.3,7.1])\n",
    "        \n",
    "        plt.plot((np.arange(0,sl_len,1)/22050)[::5]+0.25,1000*sound_list[::5]/25-2,linewidth=0.3, c='#1f77b4')\n",
    "        plt.plot([(np.arange(0,sl_len,1)/22050)[(i-1)*2000]+0.25,(np.arange(0,sl_len,1)/22050)[(i-1)*2000]+0.25],[-0.85,-3.1], color='red' )\n",
    "        #plt.xlim([-0.10,11.7])\n",
    "        plt.gca().set_aspect('equal')\n",
    "        #plt.text(6,6,f'{i}')\n",
    "\n",
    "        if i<=9:\n",
    "            plt.savefig(f'images/000{i}.jpg',dpi=240,bbox_inches = 'tight')\n",
    "            plt.close()\n",
    "        elif i<=99:\n",
    "            plt.savefig(f'images/00{i}.jpg',dpi=240,bbox_inches = 'tight')\n",
    "            plt.close()\n",
    "        elif i<=999:\n",
    "            plt.savefig(f'images/0{i}.jpg',dpi=240,bbox_inches = 'tight')\n",
    "            plt.close()\n",
    "        elif i<=9999:\n",
    "            plt.savefig(f'images/{i}.jpg',dpi=240,bbox_inches = 'tight')\n",
    "            plt.close()\n"
   ]
  },
  {
   "cell_type": "code",
   "execution_count": 17,
   "id": "397b3b91",
   "metadata": {},
   "outputs": [
    {
     "data": {
      "text/plain": [
       "2000.0"
      ]
     },
     "execution_count": 17,
     "metadata": {},
     "output_type": "execute_result"
    }
   ],
   "source": [
    "sl_len/128"
   ]
  },
  {
   "cell_type": "code",
   "execution_count": 18,
   "id": "89ea0926",
   "metadata": {},
   "outputs": [],
   "source": [
    "name_list = []\n",
    "for i in range(1,128):\n",
    "    if i<=9:\n",
    "        name_list.append(f'000{i}.jpg')\n",
    "    elif i<=99:\n",
    "        name_list.append(f'00{i}.jpg')\n",
    "    elif i<=999:\n",
    "        name_list.append(f'0{i}.jpg')\n",
    "    elif i<=9999:\n",
    "        name_list.append(f'{i}.jpg')\n"
   ]
  },
  {
   "cell_type": "code",
   "execution_count": 19,
   "id": "aa6b4c3f",
   "metadata": {},
   "outputs": [],
   "source": [
    "os.chdir('D:\\\\GitHub\\\\reservoir_dummy_paper\\\\supp\\\\music_box') "
   ]
  },
  {
   "cell_type": "code",
   "execution_count": 20,
   "id": "e7b9c96f",
   "metadata": {},
   "outputs": [],
   "source": [
    "audio_path = 'audio/never_gonna_give_up_reservoir.mp3' \n",
    "video_path = os.path.join(os.getcwd(), \"video\") \n",
    "images_path = os.path.join(os.getcwd(), \"images\") \n",
    "audio = MP3(audio_path) \n",
    "audio_length = audio.info.length \n",
    "\n",
    "list_of_images = []\n",
    "\n",
    "for image_file in name_list: \n",
    "    if image_file.endswith('.jpg'): \n",
    "        image_path = os.path.join(images_path, image_file) \n",
    "        image = Image.open(image_path).resize((int(19*200), int(10.4*200)), Image.ANTIALIAS) \n",
    "        list_of_images.append(image) \n",
    "  \n"
   ]
  },
  {
   "cell_type": "code",
   "execution_count": 21,
   "id": "abeba461",
   "metadata": {},
   "outputs": [
    {
     "data": {
      "text/plain": [
       "11.609977324263038"
      ]
     },
     "execution_count": 21,
     "metadata": {},
     "output_type": "execute_result"
    }
   ],
   "source": [
    "audio_length"
   ]
  },
  {
   "cell_type": "code",
   "execution_count": 22,
   "id": "0a28fbd9",
   "metadata": {},
   "outputs": [],
   "source": [
    "duration = audio_length/len(list_of_images) \n",
    "imageio.mimsave('images.gif', list_of_images, fps=1/duration) "
   ]
  },
  {
   "cell_type": "code",
   "execution_count": 23,
   "id": "8bffe1f7",
   "metadata": {},
   "outputs": [
    {
     "name": "stdout",
     "output_type": "stream",
     "text": [
      "Moviepy - Building video never_gonna_give_up.mp4.\n",
      "MoviePy - Writing audio in never_gonna_give_upTEMP_MPY_wvf_snd.mp3\n"
     ]
    },
    {
     "name": "stderr",
     "output_type": "stream",
     "text": [
      "                                                                                                                                                                                                                                                         \r"
     ]
    },
    {
     "name": "stdout",
     "output_type": "stream",
     "text": [
      "MoviePy - Done.\n",
      "Moviepy - Writing video never_gonna_give_up.mp4\n",
      "\n"
     ]
    },
    {
     "name": "stderr",
     "output_type": "stream",
     "text": [
      "                                                                                                                                                                                                                                                         \r"
     ]
    },
    {
     "name": "stdout",
     "output_type": "stream",
     "text": [
      "Moviepy - Done !\n",
      "Moviepy - video ready never_gonna_give_up.mp4\n"
     ]
    }
   ],
   "source": [
    "  \n",
    "video = editor.VideoFileClip(\"images.gif\") \n",
    "audio = editor.AudioFileClip(audio_path) \n",
    "final_video = video.set_audio(audio) \n",
    "final_video.write_videofile(fps=60, codec=\"libx264\", filename=\"never_gonna_give_up.mp4\") "
   ]
  },
  {
   "cell_type": "code",
   "execution_count": null,
   "id": "201b2458",
   "metadata": {},
   "outputs": [],
   "source": []
  }
 ],
 "metadata": {
  "kernelspec": {
   "display_name": "Python 3 (ipykernel)",
   "language": "python",
   "name": "python3"
  },
  "language_info": {
   "codemirror_mode": {
    "name": "ipython",
    "version": 3
   },
   "file_extension": ".py",
   "mimetype": "text/x-python",
   "name": "python",
   "nbconvert_exporter": "python",
   "pygments_lexer": "ipython3",
   "version": "3.8.16"
  }
 },
 "nbformat": 4,
 "nbformat_minor": 5
}
